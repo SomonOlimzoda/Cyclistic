{
 "cells": [
  {
   "cell_type": "markdown",
   "metadata": {},
   "source": [
    "<div align=\"center\"><h1> Case Study: Cyclistic </h1></div> \n",
    "\n",
    "## Case Background\n",
    "As a junior data analyst working in the marketing analyst team at Cyclistic (a bike-sharing company active in Chicago), I am tasked with understanding how casual riders and annual members use Cyclistic bikes differently. Casual riders consist of customers that purchase single-ride or full-day passes, whereas annual members subscribe yearly for unlimited biking access. The marketing director theorizes that the company's future success depends on maximizing the number of yearly memberships by converting casual riders into annual members. Pending executive approval, my team will be designing a new marketing strategy that pursues this idea. \n",
    "\n",
    "To inform any decision-making behind Cyclistic's new marketing strategy, the goal of this project will be to uncover and convey actionable insights.\n",
    "\n",
    "If you would like to skip everything to view the results of this study, you can view my presentation [here](https://www.youtube.com/watch?v=9Rr4QwJb5Lk&t=2s).\n",
    "\n",
    "## Scope of Work\n",
    "\n",
    "|Deliverable|Tasks                    |\n",
    "|:----------:|:------------------------|\n",
    "|1. Define and discuss the project|<ul><li>Producing a scope of work document</li><li>Framing a problem statement</li><li>Defining project goals and the measurements to define success by discussing the project with stakeholders and ascertaining expectations</li></ul>|\n",
    "|2. Extract and prepare the data for exploration|<ul><li>Identifying where data resides and its structure</li><li>Determining data reliability, origins, comprehensiveness, current relevance, and credibility</li><li>Addressing licensing, privacy, security, and accessibility concerns</li><li>Verifying data integrity</li><li>Identifying how the data helps answer the questions we're pursuing</li><li>Filtering and sorting the data</li>|\n",
    "|3. Process the data for analysis|<ul><li>Research and apply the correct data manipulation tools for processing and analysis</li><li>Check for dirty data - in particular for data that is outdated, duplicated, incomplete, inconsistent, and inaccurate</li><li>Wrangle and clean the data until we can apply unbiased and representative data analytics</li></ul>|\n",
    "|4. Conduct a descriptive analysis|<ul><li>Organize and format the data (including useful aggregate tables)</li><li>Identify trends and relationships with the help of calculations, data aggregations, and relevant visuals</li><li>Provide a summary of the analysis</li></ul>|\n",
    "|5. Share key findings with stakeholders|<ul><li>Create an effective and accessible presentation that answers the original business problem with compelling storytelling</li></ul>|\n",
    "|6. Act on key findings|<ul><li>Based on the analysis conducted, provide three recommendations for the marketing campaign to move forward with</li></ul>|"
   ]
